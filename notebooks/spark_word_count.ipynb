{
 "cells": [
  {
   "cell_type": "code",
   "execution_count": 1,
   "metadata": {
    "collapsed": true
   },
   "outputs": [],
   "source": [
    "from pyspark.sql import SparkSession\n",
    "from pyspark.sql.functions import udf, col, explode, count"
   ]
  },
  {
   "cell_type": "code",
   "execution_count": 2,
   "metadata": {
    "collapsed": true
   },
   "outputs": [],
   "source": [
    "from os import environ, path\n",
    "environ['PYSPARK_SUBMIT_ARGS'] = '--packages com.databricks:spark-xml_2.10:0.4.1 pyspark-shell' "
   ]
  },
  {
   "cell_type": "code",
   "execution_count": 3,
   "metadata": {
    "collapsed": true
   },
   "outputs": [],
   "source": [
    "spark = SparkSession \\\n",
    "    .builder \\\n",
    "    .appName(\"Python Spark wordcount\") \\\n",
    "    .getOrCreate()"
   ]
  },
  {
   "cell_type": "code",
   "execution_count": 4,
   "metadata": {
    "collapsed": true
   },
   "outputs": [],
   "source": [
    "take_first = udf(lambda l: l[0]) # take first from list"
   ]
  },
  {
   "cell_type": "code",
   "execution_count": 7,
   "metadata": {
    "scrolled": true
   },
   "outputs": [],
   "source": [
    "# read xml files as df\n",
    "df_xml = spark.read \\\n",
    "  .format(\"com.databricks.spark.xml\") \\\n",
    "  .option(\"rowTag\", \"s\") \\\n",
    "  .option(\"rootTag\", \"document\") \\\n",
    "  .load(\"../subtitles/*/*/*/*/*/*/*.xml.gz\") # spark does not support recursive load"
   ]
  },
  {
   "cell_type": "code",
   "execution_count": 8,
   "metadata": {
    "collapsed": true
   },
   "outputs": [],
   "source": [
    "df_wc = df_xml \\\n",
    "    .withColumn(\"words\", explode(col(\"w\"))) \\\n",
    "    .drop(\"_emphasis\", \"_id\", \"time\", \"w\") \\\n",
    "    .withColumn(\"word\", take_first(col(\"words\"))) \\\n",
    "    .groupBy(\"word\").agg(count(col(\"word\"))) \\\n",
    "    .sort(col(\"count(word)\").desc())"
   ]
  },
  {
   "cell_type": "code",
   "execution_count": 10,
   "metadata": {},
   "outputs": [
    {
     "name": "stdout",
     "output_type": "stream",
     "text": [
      "+----+-----------+\n",
      "|word|count(word)|\n",
      "+----+-----------+\n",
      "|.   |13115      |\n",
      "|,   |9955       |\n",
      "|die |5915       |\n",
      "|nie |4973       |\n",
      "|?   |4758       |\n",
      "|is  |4630       |\n",
      "|'   |3826       |\n",
      "|het |3769       |\n",
      "|!   |3582       |\n",
      "|n   |3420       |\n",
      "+----+-----------+\n",
      "only showing top 10 rows\n",
      "\n"
     ]
    }
   ],
   "source": [
    "df_wc.show(10, False)"
   ]
  },
  {
   "cell_type": "code",
   "execution_count": null,
   "metadata": {},
   "outputs": [],
   "source": [
    "spark.sparkContext.uiWebUrl"
   ]
  },
  {
   "cell_type": "code",
   "execution_count": null,
   "metadata": {
    "collapsed": true
   },
   "outputs": [],
   "source": []
  }
 ],
 "metadata": {
  "kernelspec": {
   "display_name": "Python 3",
   "language": "python",
   "name": "python3"
  },
  "language_info": {
   "codemirror_mode": {
    "name": "ipython",
    "version": 3
   },
   "file_extension": ".py",
   "mimetype": "text/x-python",
   "name": "python",
   "nbconvert_exporter": "python",
   "pygments_lexer": "ipython3",
   "version": "3.6.4"
  }
 },
 "nbformat": 4,
 "nbformat_minor": 2
}

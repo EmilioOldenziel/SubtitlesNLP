{
 "cells": [
  {
   "cell_type": "code",
   "execution_count": 1,
   "metadata": {
    "collapsed": true
   },
   "outputs": [],
   "source": [
    "from pyspark.sql import SparkSession\n",
    "from pyspark.sql.functions import udf, col, explode, count, first, substring_index\n",
    "from pyspark.sql.types import StructType, StructField, StringType, ArrayType"
   ]
  },
  {
   "cell_type": "code",
   "execution_count": 2,
   "metadata": {
    "collapsed": true
   },
   "outputs": [],
   "source": [
    "from os import environ, path\n",
    "environ['PYSPARK_SUBMIT_ARGS'] = '--packages com.databricks:spark-xml_2.10:0.4.1 pyspark-shell' "
   ]
  },
  {
   "cell_type": "code",
   "execution_count": 3,
   "metadata": {
    "collapsed": true
   },
   "outputs": [],
   "source": [
    "spark = SparkSession \\\n",
    "    .builder \\\n",
    "    .appName(\"Python Spark wordcount\") \\\n",
    "    .getOrCreate()"
   ]
  },
  {
   "cell_type": "code",
   "execution_count": 4,
   "metadata": {},
   "outputs": [
    {
     "data": {
      "text/plain": [
       "'http://192.168.178.66:4040'"
      ]
     },
     "execution_count": 4,
     "metadata": {},
     "output_type": "execute_result"
    }
   ],
   "source": [
    "spark.sparkContext.uiWebUrl"
   ]
  },
  {
   "cell_type": "code",
   "execution_count": 5,
   "metadata": {
    "collapsed": true
   },
   "outputs": [],
   "source": [
    "take_first = udf(lambda l: l[0]) # take first from list"
   ]
  },
  {
   "cell_type": "code",
   "execution_count": 6,
   "metadata": {},
   "outputs": [],
   "source": [
    "schema = StructType([\n",
    "    StructField('w', ArrayType(StringType()))\n",
    "])"
   ]
  },
  {
   "cell_type": "code",
   "execution_count": 7,
   "metadata": {
    "scrolled": false
   },
   "outputs": [],
   "source": [
    "# read xml files as df\n",
    "df_xml = spark.read \\\n",
    "  .format(\"com.databricks.spark.xml\") \\\n",
    "  .option(\"rowTag\", \"s\") \\\n",
    "  .option(\"rootTag\", \"document\") \\\n",
    "  .load(\"../subtitles/af/*/*/*/*/*/*.xml.gz\", schema=schema) # spark does not support recursive load"
   ]
  },
  {
   "cell_type": "code",
   "execution_count": 12,
   "metadata": {},
   "outputs": [],
   "source": [
    "df_wc = df_xml \\\n",
    "    .withColumn(\"word\", explode(col(\"w\"))) \\\n",
    "    .drop(\"w\") \\\n",
    "    .groupBy(\"word\").agg(count(col(\"word\"))) \\\n",
    "    .sort(col(\"count(word)\").desc())"
   ]
  },
  {
   "cell_type": "code",
   "execution_count": 13,
   "metadata": {},
   "outputs": [
    {
     "name": "stdout",
     "output_type": "stream",
     "text": [
      "+----+-----------+\n",
      "|word|count(word)|\n",
      "+----+-----------+\n",
      "|   .|      13115|\n",
      "|   ,|       9955|\n",
      "| die|       5915|\n",
      "| nie|       4973|\n",
      "|   ?|       4758|\n",
      "|  is|       4630|\n",
      "|   '|       3826|\n",
      "| het|       3769|\n",
      "|   !|       3582|\n",
      "|   n|       3420|\n",
      "|  Ek|       3011|\n",
      "|  jy|       2987|\n",
      "|  ek|       2940|\n",
      "|   -|       2607|\n",
      "|  my|       2297|\n",
      "| dit|       2291|\n",
      "| van|       1980|\n",
      "|  en|       1879|\n",
      "| jou|       1767|\n",
      "|  in|       1604|\n",
      "+----+-----------+\n",
      "only showing top 20 rows\n",
      "\n"
     ]
    }
   ],
   "source": [
    "df_wc.show()"
   ]
  },
  {
   "cell_type": "code",
   "execution_count": 14,
   "metadata": {
    "collapsed": true
   },
   "outputs": [],
   "source": [
    "spark.sparkContext.stop()"
   ]
  }
 ],
 "metadata": {
  "kernelspec": {
   "display_name": "Python 3",
   "language": "python",
   "name": "python3"
  },
  "language_info": {
   "codemirror_mode": {
    "name": "ipython",
    "version": 3
   },
   "file_extension": ".py",
   "mimetype": "text/x-python",
   "name": "python",
   "nbconvert_exporter": "python",
   "pygments_lexer": "ipython3",
   "version": "3.6.4"
  }
 },
 "nbformat": 4,
 "nbformat_minor": 2
}

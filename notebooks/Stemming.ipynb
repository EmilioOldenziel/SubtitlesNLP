{
 "cells": [
  {
   "cell_type": "code",
   "execution_count": 1,
   "metadata": {
    "collapsed": true
   },
   "outputs": [],
   "source": [
    "import pandas as pd"
   ]
  },
  {
   "cell_type": "code",
   "execution_count": 2,
   "metadata": {
    "collapsed": true,
    "scrolled": true
   },
   "outputs": [],
   "source": [
    "df_de = pd.read_csv('../grams/sg_de.csv', names=['frequency', 'word1', 'word2']) # results of skip-grams and 2-grams\n",
    "df_nl = pd.read_csv('../grams/sg_nl.csv', names=['frequency', 'word1', 'word2']) # results of skip-grams and 2-grams\n",
    "df_fr = pd.read_csv('../grams/sg_fr.csv', names=['frequency', 'word1', 'word2']) # results of skip-grams and 2-grams\n",
    "df_es = pd.read_csv('../grams/sg_es.csv', names=['frequency', 'word1', 'word2']) # results of skip-grams and 2-grams"
   ]
  },
  {
   "cell_type": "code",
   "execution_count": 3,
   "metadata": {
    "collapsed": true
   },
   "outputs": [],
   "source": [
    "# list of ~94k US babynames to remove (hello, john), (james, bond)\n",
    "names = pd.read_csv(\"../names.csv\", names=['name'])['name'].tolist()"
   ]
  },
  {
   "cell_type": "code",
   "execution_count": 4,
   "metadata": {
    "collapsed": true
   },
   "outputs": [],
   "source": [
    "names = [i for i in names if type(i) == str] #remove non strings"
   ]
  },
  {
   "cell_type": "markdown",
   "metadata": {},
   "source": [
    "# Filter names and from list"
   ]
  },
  {
   "cell_type": "code",
   "execution_count": 5,
   "metadata": {
    "collapsed": true
   },
   "outputs": [],
   "source": [
    "german_filter = ['ich', 'du', 'sie', 'mir', 'wir', 'ihr', 'uns', 'euch', 'die', 'das', 'der', 'den', 'er', 'und', '!', '/', 'ein', 'eine', 'einer', 'einem', 'mein', 'dein', 'nicht', 'wie', 'wo', 'wann', 'was']"
   ]
  },
  {
   "cell_type": "code",
   "execution_count": 6,
   "metadata": {
    "collapsed": true
   },
   "outputs": [],
   "source": [
    "dutch_filter = ['ik', 'jij', 'hij', 'zij', 'wij', 'we', 'jullie', 'hun', 'mij', 'me', 'mijn', 'haar', 'hem', '!', '/', 'een', 'de', 'het', 'wie', 'wat', 'waar', 'hoe', 'niet']"
   ]
  },
  {
   "cell_type": "code",
   "execution_count": 7,
   "metadata": {
    "collapsed": true
   },
   "outputs": [],
   "source": [
    "french_filter = ['un', 'une', 'le', 'la', '!', '/', 'je', 'tu', 'nous', 'vous']"
   ]
  },
  {
   "cell_type": "code",
   "execution_count": 8,
   "metadata": {
    "collapsed": true
   },
   "outputs": [],
   "source": [
    "spanish_filter = ['!', '/', 'el']"
   ]
  },
  {
   "cell_type": "code",
   "execution_count": 9,
   "metadata": {
    "collapsed": true
   },
   "outputs": [],
   "source": [
    "l_de = names + german_filter\n",
    "l_nl = names + dutch_filter\n",
    "l_fr = names + french_filter\n",
    "l_es = names + spanish_filter\n",
    "\n",
    "\n",
    "df_fr.word1 = df_fr.word1.apply(str)\n",
    "df_fr.word2 = df_fr.word2.apply(str)\n",
    "df_es.word1 = df_es.word1.apply(str)\n",
    "df_es.word2 = df_es.word2.apply(str)"
   ]
  },
  {
   "cell_type": "code",
   "execution_count": 10,
   "metadata": {
    "collapsed": true
   },
   "outputs": [],
   "source": [
    "df_de = \\\n",
    "    df_de[ \\\n",
    "    ~df_de.word1.isin(l_de) & \\\n",
    "    ~df_de.word2.isin(l_de) & \\\n",
    "    ~df_de.word1.str.isnumeric() & \\\n",
    "    ~df_de.word2.str.isnumeric() &\\\n",
    "    ~(df_de.word1.str == df_de.word2.str)\n",
    "    ]\n",
    "\n",
    "df_nl = \\\n",
    "    df_nl[ \\\n",
    "    ~df_nl.word1.isin(l_nl) & \\\n",
    "    ~df_nl.word2.isin(l_nl) & \\\n",
    "    ~df_nl.word1.str.isnumeric() & \\\n",
    "    ~df_nl.word2.str.isnumeric() & \\\n",
    "    ~(df_de.word1.str == df_de.word2.str)\n",
    "    ]\n",
    "\n",
    "df_fr = \\\n",
    "    df_fr[ \\\n",
    "    ~df_fr.word1.isin(l_fr) & \\\n",
    "    ~df_fr.word2.isin(l_fr) & \\\n",
    "    ~df_fr.word1.str.isnumeric() & \\\n",
    "    ~df_fr.word2.str.isnumeric() & \\\n",
    "    ~(df_fr.word1.str == df_fr.word2.str)\n",
    "    ]\n",
    "    \n",
    "df_es = \\\n",
    "    df_es[ \\\n",
    "    ~df_es.word1.isin(l_es) & \\\n",
    "    ~df_es.word2.isin(l_es) & \\\n",
    "    ~df_es.word1.str.isnumeric() & \\\n",
    "    ~df_es.word2.str.isnumeric() & \\\n",
    "    ~(df_es.word1.str == df_es.word2.str)\n",
    "    ]"
   ]
  },
  {
   "cell_type": "code",
   "execution_count": null,
   "metadata": {
    "collapsed": true
   },
   "outputs": [],
   "source": []
  },
  {
   "cell_type": "markdown",
   "metadata": {},
   "source": [
    "# Remove words overlapping with other languages"
   ]
  },
  {
   "cell_type": "code",
   "execution_count": 11,
   "metadata": {
    "collapsed": true
   },
   "outputs": [],
   "source": [
    "df_de_ex = df_de \\\n",
    "    .merge(df_nl ,left_on=['word1', 'word2'], right_on=['word1', 'word2'], how='left') \\\n",
    "    .merge(df_fr ,left_on=['word1', 'word2'], right_on=['word1', 'word2'], how='left') \\\n",
    "    .merge(df_es ,left_on=['word1', 'word2'], right_on=['word1', 'word2'], how='left')"
   ]
  },
  {
   "cell_type": "code",
   "execution_count": 12,
   "metadata": {
    "collapsed": true
   },
   "outputs": [],
   "source": [
    "df_de_ex = df_de_ex.fillna(0)"
   ]
  },
  {
   "cell_type": "code",
   "execution_count": 13,
   "metadata": {
    "collapsed": true
   },
   "outputs": [],
   "source": [
    "df_de_ex.columns = ['frequency', 'word1', 'word2', 'nl', 'fr', 'es']"
   ]
  },
  {
   "cell_type": "code",
   "execution_count": 14,
   "metadata": {
    "collapsed": true
   },
   "outputs": [],
   "source": [
    "df = df_de_ex[(df_de_ex.nl == 0.0) & (df_de_ex.fr == 0.0) & (df_de_ex.es == 0.0)].drop(['nl', 'fr', 'es'], axis=1)"
   ]
  },
  {
   "cell_type": "markdown",
   "metadata": {},
   "source": [
    "# Stemming"
   ]
  },
  {
   "cell_type": "code",
   "execution_count": 89,
   "metadata": {
    "collapsed": true
   },
   "outputs": [],
   "source": [
    "from nltk.stem.snowball import GermanStemmer\n",
    "stemmer = GermanStemmer()"
   ]
  },
  {
   "cell_type": "code",
   "execution_count": 90,
   "metadata": {},
   "outputs": [],
   "source": [
    "df.word1 = df.word1.apply(stemmer.stem)\n",
    "df.word2 = df.word2.apply(stemmer.stem)"
   ]
  },
  {
   "cell_type": "code",
   "execution_count": 91,
   "metadata": {},
   "outputs": [],
   "source": [
    "df_stemmed = df.groupby(['word1', 'word2'], as_index=False)['frequency'].sum()"
   ]
  },
  {
   "cell_type": "code",
   "execution_count": 92,
   "metadata": {},
   "outputs": [],
   "source": [
    "stem_filter = ['$', '*', '%', '..', \":\", \";\", '=', \"\\\\\", \"^\"]"
   ]
  },
  {
   "cell_type": "code",
   "execution_count": 93,
   "metadata": {},
   "outputs": [
    {
     "name": "stderr",
     "output_type": "stream",
     "text": [
      "/home/emilio/Software/anaconda3/lib/python3.6/site-packages/ipykernel_launcher.py:1: UserWarning: This pattern has match groups. To actually get the groups, use str.extract.\n",
      "  \"\"\"Entry point for launching an IPython kernel.\n"
     ]
    }
   ],
   "source": [
    "df_stemmed = df_stemmed[(~df_stemmed.word1.isin(stem_filter)) & (~df_stemmed.word2.isin(stem_filter)) & ~df_stemmed.word1.str.contains(r\"(\\d)+|^(\\?)+\") & ~df_stemmed.word2.str.contains(r\"(\\d)+|^(\\?)+\")]"
   ]
  },
  {
   "cell_type": "code",
   "execution_count": 94,
   "metadata": {},
   "outputs": [],
   "source": [
    "def find(w1, w2):\n",
    "    return df_stemmed[(df_stemmed.word1 == w1) & (df_stemmed.word2 == w2)]"
   ]
  },
  {
   "cell_type": "code",
   "execution_count": 95,
   "metadata": {},
   "outputs": [],
   "source": [
    "import matplotlib.pyplot as plt\n",
    "import numpy as np"
   ]
  },
  {
   "cell_type": "code",
   "execution_count": 102,
   "metadata": {},
   "outputs": [
    {
     "data": {
      "image/png": "[encoded data removed]",
      "text/plain": [
       "<matplotlib.figure.Figure at 0x7f50d6ed5470>"
      ]
     },
     "metadata": {},
     "output_type": "display_data"
    }
   ],
   "source": [
    "plt.figure(figsize=(8, 6), dpi=80)\n",
    "h = plt.hist(df.frequency.tolist(), bins=50)\n",
    "plt.gca().set_yscale(\"log\")\n",
    "plt.show()"
   ]
  },
  {
   "cell_type": "code",
   "execution_count": null,
   "metadata": {
    "collapsed": true
   },
   "outputs": [],
   "source": []
  }
 ],
 "metadata": {
  "kernelspec": {
   "display_name": "Python 3",
   "language": "python",
   "name": "python3"
  },
  "language_info": {
   "codemirror_mode": {
    "name": "ipython",
    "version": 3
   },
   "file_extension": ".py",
   "mimetype": "text/x-python",
   "name": "python",
   "nbconvert_exporter": "python",
   "pygments_lexer": "ipython3",
   "version": "3.6.4"
  }
 },
 "nbformat": 4,
 "nbformat_minor": 2
}

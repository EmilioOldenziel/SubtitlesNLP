{
 "cells": [
  {
   "cell_type": "code",
   "execution_count": 100,
   "metadata": {
    "collapsed": true
   },
   "outputs": [],
   "source": [
    "import pandas as pd"
   ]
  },
  {
   "cell_type": "code",
   "execution_count": 101,
   "metadata": {
    "scrolled": true
   },
   "outputs": [],
   "source": [
    "df_de = pd.read_csv('../grams/sg_de.csv', names=['frequency', 'word1', 'word2']) # results of skip-grams and 2-grams\n",
    "df_nl = pd.read_csv('../grams/sg_nl.csv', names=['frequency', 'word1', 'word2']) # results of skip-grams and 2-grams\n",
    "df_fr = pd.read_csv('../grams/sg_fr.csv', names=['frequency', 'word1', 'word2']) # results of skip-grams and 2-grams\n",
    "df_es = pd.read_csv('../grams/sg_es.csv', names=['frequency', 'word1', 'word2']) # results of skip-grams and 2-grams"
   ]
  },
  {
   "cell_type": "code",
   "execution_count": 102,
   "metadata": {
    "collapsed": true
   },
   "outputs": [],
   "source": [
    "# list of ~94k US babynames to remove (hello, john), (james, bond)\n",
    "names = pd.read_csv(\"../names.csv\", names=['name'])['name'].tolist()"
   ]
  },
  {
   "cell_type": "code",
   "execution_count": 103,
   "metadata": {},
   "outputs": [],
   "source": [
    "names = [i for i in names if type(i) == str] #remove non strings"
   ]
  },
  {
   "cell_type": "markdown",
   "metadata": {},
   "source": [
    "# Filter names and from list"
   ]
  },
  {
   "cell_type": "code",
   "execution_count": 104,
   "metadata": {
    "collapsed": true
   },
   "outputs": [],
   "source": [
    "german_filter = ['ich', 'du', 'sie', 'mir', 'wir', 'ihr', 'uns', 'euch', 'die', 'das', 'der', 'den', 'er', 'und', '!', '/', 'ein', 'eine', 'einer', 'einem', 'mein', 'dein', 'nicht', 'wie', 'wo', 'wann', 'was']"
   ]
  },
  {
   "cell_type": "code",
   "execution_count": 105,
   "metadata": {
    "collapsed": true
   },
   "outputs": [],
   "source": [
    "dutch_filter = ['ik', 'jij', 'hij', 'zij', 'wij', 'we', 'jullie', 'hun', 'mij', 'me', 'mijn', 'haar', 'hem', '!', '/', 'een', 'de', 'het', 'wie', 'wat', 'waar', 'hoe', 'niet']"
   ]
  },
  {
   "cell_type": "code",
   "execution_count": 106,
   "metadata": {
    "collapsed": true
   },
   "outputs": [],
   "source": [
    "french_filter = ['un', 'une', 'le', 'la', '!', '/', 'je', 'tu', 'nous', 'vous']"
   ]
  },
  {
   "cell_type": "code",
   "execution_count": 107,
   "metadata": {
    "collapsed": true
   },
   "outputs": [],
   "source": [
    "spanish_filter = ['!', '/', 'el']"
   ]
  },
  {
   "cell_type": "code",
   "execution_count": 108,
   "metadata": {},
   "outputs": [],
   "source": [
    "l_de = names + german_filter\n",
    "l_nl = names + dutch_filter\n",
    "l_fr = names + french_filter\n",
    "l_es = names + spanish_filter\n",
    "\n",
    "\n",
    "df_fr.word1 = df_fr.word1.apply(str)\n",
    "df_fr.word2 = df_fr.word2.apply(str)\n",
    "df_es.word1 = df_es.word1.apply(str)\n",
    "df_es.word2 = df_es.word2.apply(str)"
   ]
  },
  {
   "cell_type": "code",
   "execution_count": 109,
   "metadata": {},
   "outputs": [],
   "source": [
    "df_de = \\\n",
    "    df_de[ \\\n",
    "    ~df_de.word1.isin(l_de) & \\\n",
    "    ~df_de.word2.isin(l_de) & \\\n",
    "    ~df_de.word1.str.isnumeric() & \\\n",
    "    ~df_de.word2.str.isnumeric() &\\\n",
    "    ~(df_de.word1.str == df_de.word2.str)\n",
    "    ]\n",
    "\n",
    "df_nl = \\\n",
    "    df_nl[ \\\n",
    "    ~df_nl.word1.isin(l_nl) & \\\n",
    "    ~df_nl.word2.isin(l_nl) & \\\n",
    "    ~df_nl.word1.str.isnumeric() & \\\n",
    "    ~df_nl.word2.str.isnumeric() & \\\n",
    "    ~(df_de.word1.str == df_de.word2.str)\n",
    "    ]\n",
    "\n",
    "df_fr = \\\n",
    "    df_fr[ \\\n",
    "    ~df_fr.word1.isin(l_fr) & \\\n",
    "    ~df_fr.word2.isin(l_fr) & \\\n",
    "    ~df_fr.word1.str.isnumeric() & \\\n",
    "    ~df_fr.word2.str.isnumeric() & \\\n",
    "    ~(df_fr.word1.str == df_fr.word2.str)\n",
    "    ]\n",
    "    \n",
    "df_es = \\\n",
    "    df_es[ \\\n",
    "    ~df_es.word1.isin(l_es) & \\\n",
    "    ~df_es.word2.isin(l_es) & \\\n",
    "    ~df_es.word1.str.isnumeric() & \\\n",
    "    ~df_es.word2.str.isnumeric() & \\\n",
    "    ~(df_es.word1.str == df_es.word2.str)\n",
    "    ]"
   ]
  },
  {
   "cell_type": "code",
   "execution_count": null,
   "metadata": {},
   "outputs": [],
   "source": []
  },
  {
   "cell_type": "markdown",
   "metadata": {},
   "source": [
    "# Remove words overlapping with other languages"
   ]
  },
  {
   "cell_type": "code",
   "execution_count": 115,
   "metadata": {},
   "outputs": [],
   "source": [
    "df_de_ex = df_de \\\n",
    "    .merge(df_nl ,left_on=['word1', 'word2'], right_on=['word1', 'word2'], how='left') \\\n",
    "    .merge(df_fr ,left_on=['word1', 'word2'], right_on=['word1', 'word2'], how='left') \\\n",
    "    .merge(df_es ,left_on=['word1', 'word2'], right_on=['word1', 'word2'], how='left')"
   ]
  },
  {
   "cell_type": "code",
   "execution_count": 116,
   "metadata": {},
   "outputs": [],
   "source": [
    "df_de_ex = df_de_ex.fillna(0)"
   ]
  },
  {
   "cell_type": "code",
   "execution_count": 117,
   "metadata": {},
   "outputs": [],
   "source": [
    "df_de_ex.columns = ['frequency', 'word1', 'word2', 'nl', 'fr', 'es']"
   ]
  },
  {
   "cell_type": "code",
   "execution_count": 118,
   "metadata": {},
   "outputs": [],
   "source": [
    "df = df_de_ex[(df_de_ex.nl == 0.0) & (df_de_ex.fr == 0.0) & (df_de_ex.es == 0.0)].drop(['nl', 'fr', 'es'], axis=1)"
   ]
  },
  {
   "cell_type": "markdown",
   "metadata": {},
   "source": [
    "# Add word frequency"
   ]
  },
  {
   "cell_type": "code",
   "execution_count": 120,
   "metadata": {
    "collapsed": true
   },
   "outputs": [],
   "source": [
    "wc_de = pd.read_csv(\"../word_counts/wc_de.csv\", lineterminator='\\n', names=['word', 'word_frequency'])"
   ]
  },
  {
   "cell_type": "code",
   "execution_count": 121,
   "metadata": {
    "collapsed": true
   },
   "outputs": [],
   "source": [
    "df = df.merge(wc_de, left_on='word1', right_on='word', how='left') \\\n",
    ".merge(wc_de, left_on='word2', right_on='word', how='left') \\\n",
    ".drop(['word_x', 'word_y'], axis=1) \\\n",
    ".rename(index=str, columns={\"word_frequency_x\": \"word_1_frequency\", \"word_frequency_y\": \"word_2_frequency\"})"
   ]
  },
  {
   "cell_type": "code",
   "execution_count": 122,
   "metadata": {},
   "outputs": [],
   "source": [
    "df['normalised_frequency'] = df['frequency'] / (df['word_1_frequency']+df['word_2_frequency']) # divide skipgram freq. by wordcount freq."
   ]
  },
  {
   "cell_type": "code",
   "execution_count": 123,
   "metadata": {},
   "outputs": [],
   "source": [
    "df = df.sort_values(by='frequency', ascending=False)"
   ]
  },
  {
   "cell_type": "code",
   "execution_count": 125,
   "metadata": {},
   "outputs": [
    {
     "data": {
      "text/plain": [
       "frequency               274238\n",
       "word1                   274238\n",
       "word2                   274238\n",
       "word_1_frequency        274238\n",
       "word_2_frequency        274238\n",
       "normalised_frequency    274238\n",
       "dtype: int64"
      ]
     },
     "execution_count": 125,
     "metadata": {},
     "output_type": "execute_result"
    }
   ],
   "source": [
    "df.count()"
   ]
  },
  {
   "cell_type": "code",
   "execution_count": null,
   "metadata": {
    "collapsed": true
   },
   "outputs": [],
   "source": []
  }
 ],
 "metadata": {
  "kernelspec": {
   "display_name": "Python 3",
   "language": "python",
   "name": "python3"
  },
  "language_info": {
   "codemirror_mode": {
    "name": "ipython",
    "version": 3
   },
   "file_extension": ".py",
   "mimetype": "text/x-python",
   "name": "python",
   "nbconvert_exporter": "python",
   "pygments_lexer": "ipython3",
   "version": "3.6.4"
  }
 },
 "nbformat": 4,
 "nbformat_minor": 2
}

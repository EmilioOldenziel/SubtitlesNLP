{
 "cells": [
  {
   "cell_type": "code",
   "execution_count": null,
   "metadata": {
    "collapsed": true
   },
   "outputs": [],
   "source": [
    "import numpy as np\n",
    "import pandas as pd\n",
    "import matplotlib.pyplot as plt\n",
    "from sklearn.tree import DecisionTreeClassifier\n",
    "from sklearn.model_selection import KFold\n",
    "from sklearn.metrics import f1_score\n",
    "from sklearn.preprocessing import MinMaxScaler"
   ]
  },
  {
   "cell_type": "markdown",
   "metadata": {},
   "source": [
    "# Read and Normalize Data"
   ]
  },
  {
   "cell_type": "code",
   "execution_count": null,
   "metadata": {},
   "outputs": [],
   "source": [
    "language = \"de\"\n",
    "df = pd.read_csv(f\"../data/seperatable verbs/de_dataset.zip\", compression='zip')"
   ]
  },
  {
   "cell_type": "code",
   "execution_count": null,
   "metadata": {
    "collapsed": true
   },
   "outputs": [],
   "source": [
    "X = df.loc[:, \"frequency\": \"ll\"][[\"skip_variance\", \"skip_average\", \"word_1_frequency\", \"word_2_frequency\"]]"
   ]
  },
  {
   "cell_type": "code",
   "execution_count": null,
   "metadata": {
    "collapsed": true
   },
   "outputs": [],
   "source": [
    "mms = MinMaxScaler()\n",
    "X_norm = pd.DataFrame(mms.fit_transform(X)).drop(0, axis=1)\n",
    "X_norm.columns = X.columns[1:]"
   ]
  },
  {
   "cell_type": "code",
   "execution_count": null,
   "metadata": {
    "collapsed": true
   },
   "outputs": [],
   "source": [
    "Y = df.loc[:, \"label\"]"
   ]
  },
  {
   "cell_type": "markdown",
   "metadata": {},
   "source": [
    "# Training and cross-validation\n",
    "\n"
   ]
  },
  {
   "cell_type": "code",
   "execution_count": null,
   "metadata": {
    "collapsed": true
   },
   "outputs": [],
   "source": [
    "kf = KFold(n_splits=5)"
   ]
  },
  {
   "cell_type": "code",
   "execution_count": null,
   "metadata": {
    "collapsed": true,
    "scrolled": true
   },
   "outputs": [],
   "source": [
    "scores = np.zeros((2,25))\n",
    "depth_range = range(2,25)\n",
    "for max_depth in depth_range:\n",
    "    train_scores = []\n",
    "    test_scores = []\n",
    "    for train_index, test_index in kf.split(X.values):\n",
    "        clf = DecisionTreeClassifier(max_depth=max_depth, criterion=\"entropy\")\n",
    "        X_train, X_test = X.iloc[train_index], X.iloc[test_index]\n",
    "        Y_train, Y_test = Y.iloc[train_index], Y.iloc[test_index]\n",
    "        clf.fit(X_train, Y_train)\n",
    "        train_scores.append(f1_score(clf.predict(X_train), Y_train, average=\"micro\"))\n",
    "        test_scores.append(f1_score(clf.predict(X_test), Y_test, average=\"micro\"))\n",
    "    scores[0][max_depth] = sum(train_scores)/len(train_scores)\n",
    "    scores[1][max_depth] = sum(test_scores)/len(test_scores)"
   ]
  },
  {
   "cell_type": "markdown",
   "metadata": {},
   "source": [
    "# Plot training and test error"
   ]
  },
  {
   "cell_type": "code",
   "execution_count": null,
   "metadata": {
    "collapsed": true
   },
   "outputs": [],
   "source": [
    "scores = scores[:,2:]"
   ]
  },
  {
   "cell_type": "code",
   "execution_count": null,
   "metadata": {
    "scrolled": false
   },
   "outputs": [],
   "source": [
    "plt.figure(figsize=(16,8))\n",
    "plt.plot(list(depth_range), scores[0], \"^-\", markevery=[scores[0].argmax()], markersize=10)\n",
    "plt.plot(list(depth_range), scores[1], \"^-\", markevery=[scores[1].argmax()], markersize=10)\n",
    "plt.title(\"Average 5-Fold Crossval F1-score\")\n",
    "plt.legend([\"Training error (with max)\", \"Test error (with max)\"])\n",
    "plt.xlabel(\"Max tree depth\")\n",
    "plt.ylabel(\"Score\")\n",
    "plt.grid(True)\n",
    "plt.xticks(np.arange(2, 25, step=2))\n",
    "plt.savefig(\"DT_score.png\")\n",
    "plt.show()"
   ]
  },
  {
   "cell_type": "code",
   "execution_count": null,
   "metadata": {
    "scrolled": true
   },
   "outputs": [],
   "source": [
    "print(f\"max score:{round(scores[1].max(),3)} @ max depth:{scores[1].argmax()+2}\")"
   ]
  }
 ],
 "metadata": {
  "kernelspec": {
   "display_name": "Python 3",
   "language": "python",
   "name": "python3"
  },
  "language_info": {
   "codemirror_mode": {
    "name": "ipython",
    "version": 3
   },
   "file_extension": ".py",
   "mimetype": "text/x-python",
   "name": "python",
   "nbconvert_exporter": "python",
   "pygments_lexer": "ipython3",
   "version": "3.6.4"
  }
 },
 "nbformat": 4,
 "nbformat_minor": 2
}

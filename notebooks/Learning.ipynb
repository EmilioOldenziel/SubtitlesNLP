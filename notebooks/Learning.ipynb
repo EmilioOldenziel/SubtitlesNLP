{
 "cells": [
  {
   "cell_type": "code",
   "execution_count": 6,
   "metadata": {
    "collapsed": true
   },
   "outputs": [],
   "source": [
    "import pandas as pd\n",
    "import matplotlib.pyplot as plt\n",
    "from ast import literal_eval\n",
    "from sklearn.ensemble import AdaBoostClassifier\n",
    "from sklearn.ensemble import RandomForestClassifier\n",
    "from sklearn.model_selection import KFold\n",
    "from sklearn.metrics import f1_score"
   ]
  },
  {
   "cell_type": "code",
   "execution_count": 7,
   "metadata": {},
   "outputs": [],
   "source": [
    "df = pd.read_csv(\"../data/enriched/de.zip\", compression='zip')\n",
    "df[\"skips\"] = df[\"skips\"].apply(literal_eval)"
   ]
  },
  {
   "cell_type": "code",
   "execution_count": 11,
   "metadata": {
    "collapsed": true
   },
   "outputs": [],
   "source": [
    "from nltk.stem.snowball import GermanStemmer, DutchStemmer\n",
    "stemmer = GermanStemmer()"
   ]
  },
  {
   "cell_type": "code",
   "execution_count": 381,
   "metadata": {
    "collapsed": true
   },
   "outputs": [],
   "source": [
    "verben = pd.read_csv(\"../other/verben_list.txt\", names=[\"verben\"])"
   ]
  },
  {
   "cell_type": "code",
   "execution_count": 382,
   "metadata": {},
   "outputs": [],
   "source": [
    "stemmed_verben = verben['verben'].apply(stemmer.stem)"
   ]
  },
  {
   "cell_type": "code",
   "execution_count": 421,
   "metadata": {
    "collapsed": true
   },
   "outputs": [],
   "source": [
    "verb_df = df[(df.word2+df.word1).apply(stemmer.stem).isin(stemmed_verben) | (df.word1+df.word2).apply(stemmer.stem).isin(stemmed_verben)]"
   ]
  },
  {
   "cell_type": "code",
   "execution_count": 458,
   "metadata": {},
   "outputs": [],
   "source": [
    "v_df = verb_df[[\"frequency\", \"number_of_skips\", \"skip_variance\", \"skip_average\", \"word_1_frequency\", \"word_2_frequency\", \"symmetric\", \"chi\", \"pmi\", \"fisher\", \"ll\"]]"
   ]
  },
  {
   "cell_type": "code",
   "execution_count": 459,
   "metadata": {
    "collapsed": true
   },
   "outputs": [],
   "source": [
    "ex_df = df[~(df.word1.isin(german_filter) | df.word2.isin(german_filter)) & \\\n",
    "  ~((df.word2+df.word1).apply(stemmer.stem).isin(stemmed_verben) | (df.word1+df.word2).apply(stemmer.stem).isin(stemmed_verben))\n",
    "  ][[\"frequency\", \"number_of_skips\", \"skip_variance\", \"skip_average\", \"word_1_frequency\", \"word_2_frequency\", \"symmetric\", \"chi\", \"pmi\", \"fisher\", \"ll\"]]"
   ]
  },
  {
   "cell_type": "code",
   "execution_count": 460,
   "metadata": {},
   "outputs": [
    {
     "name": "stderr",
     "output_type": "stream",
     "text": [
      "/home/emilio/Software/anaconda3/lib/python3.6/site-packages/ipykernel_launcher.py:3: SettingWithCopyWarning: \n",
      "A value is trying to be set on a copy of a slice from a DataFrame.\n",
      "Try using .loc[row_indexer,col_indexer] = value instead\n",
      "\n",
      "See the caveats in the documentation: http://pandas.pydata.org/pandas-docs/stable/indexing.html#indexing-view-versus-copy\n",
      "  This is separate from the ipykernel package so we can avoid doing imports until\n",
      "/home/emilio/Software/anaconda3/lib/python3.6/site-packages/ipykernel_launcher.py:4: SettingWithCopyWarning: \n",
      "A value is trying to be set on a copy of a slice from a DataFrame.\n",
      "Try using .loc[row_indexer,col_indexer] = value instead\n",
      "\n",
      "See the caveats in the documentation: http://pandas.pydata.org/pandas-docs/stable/indexing.html#indexing-view-versus-copy\n",
      "  after removing the cwd from sys.path.\n"
     ]
    }
   ],
   "source": [
    "ex_df[\"label\"] = pd.Series()\n",
    "ex_df[\"label\"] = 0\n",
    "v_df[\"label\"] = pd.Series()\n",
    "v_df[\"label\"] = 1"
   ]
  },
  {
   "cell_type": "code",
   "execution_count": 461,
   "metadata": {},
   "outputs": [],
   "source": [
    "ex_df = ex_df.sample(v_df[\"label\"].count())"
   ]
  },
  {
   "cell_type": "code",
   "execution_count": 484,
   "metadata": {},
   "outputs": [],
   "source": [
    "df_XY = v_df.append(ex_df).sample(frac=1)"
   ]
  },
  {
   "cell_type": "code",
   "execution_count": 485,
   "metadata": {},
   "outputs": [],
   "source": [
    "X = df_XY.loc[:, \"number_of_skips\": \"ll\"]"
   ]
  },
  {
   "cell_type": "code",
   "execution_count": 486,
   "metadata": {},
   "outputs": [],
   "source": [
    "Y = df_XY.loc[:, \"label\"]"
   ]
  },
  {
   "cell_type": "code",
   "execution_count": 487,
   "metadata": {},
   "outputs": [],
   "source": [
    "kf = KFold(n_splits=5)"
   ]
  },
  {
   "cell_type": "code",
   "execution_count": 488,
   "metadata": {},
   "outputs": [
    {
     "name": "stdout",
     "output_type": "stream",
     "text": [
      "average training score: 0.9880694872436859\n",
      "average test score: 0.7838827606697846\n"
     ]
    }
   ],
   "source": [
    "train_scores = []\n",
    "test_scores = []\n",
    "for train_index, test_index in kf.split(X.values):\n",
    "    clf = RandomForestClassifier()\n",
    "    X_train, X_test = X.iloc[train_index], X.iloc[test_index]\n",
    "    Y_train, Y_test = Y.iloc[train_index], Y.iloc[test_index]\n",
    "    clf.fit(X_train, Y_train)\n",
    "    train_scores.append(f1_score(clf.predict(X_train), Y_train, average=\"micro\"))\n",
    "    test_scores.append(f1_score(clf.predict(X_test), Y_test, average=\"micro\"))\n",
    "print(f\"average training score: {sum(train_scores)/len(train_scores)}\")\n",
    "print(f\"average test score: {sum(test_scores)/len(test_scores)}\")"
   ]
  },
  {
   "cell_type": "code",
   "execution_count": null,
   "metadata": {},
   "outputs": [],
   "source": []
  },
  {
   "cell_type": "code",
   "execution_count": null,
   "metadata": {
    "collapsed": true
   },
   "outputs": [],
   "source": []
  }
 ],
 "metadata": {
  "kernelspec": {
   "display_name": "Python 3",
   "language": "python",
   "name": "python3"
  },
  "language_info": {
   "codemirror_mode": {
    "name": "ipython",
    "version": 3
   },
   "file_extension": ".py",
   "mimetype": "text/x-python",
   "name": "python",
   "nbconvert_exporter": "python",
   "pygments_lexer": "ipython3",
   "version": "3.6.4"
  }
 },
 "nbformat": 4,
 "nbformat_minor": 2
}
